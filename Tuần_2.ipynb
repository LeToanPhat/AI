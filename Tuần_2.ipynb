{
  "nbformat": 4,
  "nbformat_minor": 0,
  "metadata": {
    "colab": {
      "provenance": [],
      "name": "Tuần 2.ipynb",
      "toc_visible": true,
      "mount_file_id": "1L5P9OAWAmCl8-CQWhk2sAyhwvxEGVJHY",
      "authorship_tag": "ABX9TyNUNffusF0hiAfWR1xAKDJj",
      "include_colab_link": true
    },
    "kernelspec": {
      "name": "python3",
      "display_name": "Python 3"
    },
    "language_info": {
      "name": "python"
    }
  },
  "cells": [
    {
      "cell_type": "markdown",
      "metadata": {
        "id": "view-in-github",
        "colab_type": "text"
      },
      "source": [
        "<a href=\"https://colab.research.google.com/github/LeToanPhat/AI/blob/main/Tu%E1%BA%A7n_2.ipynb\" target=\"_parent\"><img src=\"https://colab.research.google.com/assets/colab-badge.svg\" alt=\"Open In Colab\"/></a>"
      ]
    },
    {
      "cell_type": "code",
      "execution_count": null,
      "metadata": {
        "id": "B1_cF-bNUtrF"
      },
      "outputs": [],
      "source": [
        "value1 = input('nhập vào số thứ 1:')\n",
        "value1 = int (value1)\n",
        "value2 = input('Nhập vào số thứ 2:')\n",
        "value2 = int(value2)\n",
        "tong = value1 + value2\n",
        "print(tong)"
      ]
    },
    {
      "cell_type": "code",
      "source": [
        "with open('text.txt',mode = 'w') as accounts:\n",
        "  accounts.write('20146510 Lê Toàn Phát 10\\n')"
      ],
      "metadata": {
        "id": "Fzyloml_WYTY"
      },
      "execution_count": null,
      "outputs": []
    },
    {
      "cell_type": "code",
      "source": [
        "with open('text.txt',mode = 'r') as accounts:\n",
        "  print(f\"{'mssv':<10} {'name':20}{'score'}:>2}\")\n",
        "  for record in accounts:\n",
        "    MSSV,name,score = record.split()\n",
        "    print(f\"{mssv:<10}{name:<2}{score::>2}\")\n",
        "    \n",
        "  \n"
      ],
      "metadata": {
        "id": "hgscy1mrZQKD"
      },
      "execution_count": null,
      "outputs": []
    },
    {
      "cell_type": "code",
      "source": [
        "import pandas as pd\n",
        "url = 'da.csv'\n",
        "dataframe = pd.read_csv(url)\n",
        "dataframe.head(11)\n",
        "dataframe.loc[0:10]\n",
        "dataframe[dataframe['Year']=['2021']&(dataframe['Variable_code']=='Variable_code')]"
      ],
      "metadata": {
        "id": "6XZkTI-_enHH"
      },
      "execution_count": null,
      "outputs": []
    },
    {
      "cell_type": "code",
      "source": [
        "dataframe[dataframe['Year']=['2021']&(dataframe['Variable_code']=='Variable_code')]"
      ],
      "metadata": {
        "id": "CKyNbobAlJOv"
      },
      "execution_count": null,
      "outputs": []
    },
    {
      "cell_type": "code",
      "source": [
        "dataframe = dataframe.set_index(dataframe['name'])\n",
        "datafram.loc['Nguyen van A']"
      ],
      "metadata": {
        "id": "7Zw79xsbikaO"
      },
      "execution_count": null,
      "outputs": []
    },
    {
      "cell_type": "code",
      "source": [
        "  dataframe[dataframe['Họ và tên']=='Nguyễn Văn A'].head(10)"
      ],
      "metadata": {
        "id": "cA31O9JvfLvP"
      },
      "execution_count": null,
      "outputs": []
    },
    {
      "cell_type": "code",
      "source": [
        "# thay thế\n",
        "dataframe['khoa'].repalce('ckm','cơ khí máy').head(10)\n",
        "dataframe.replace('ckm','cơ khí máy').head(1010)"
      ],
      "metadata": {
        "id": "aiJMxaBmnEdu"
      },
      "execution_count": null,
      "outputs": []
    },
    {
      "cell_type": "code",
      "source": [
        "# không trùng lậplập\n",
        "dataframe['Year'].unique\n",
        "#dataframe['khoa'].value_cont()"
      ],
      "metadata": {
        "id": "PcyM497PmiBd"
      },
      "execution_count": null,
      "outputs": []
    },
    {
      "cell_type": "code",
      "source": [
        "from pandas.core.groupby import groupby\n",
        "from tables import group\n",
        "from pandas.core.apply import GroupBy\n",
        "# xóa cột\n",
        "dataframe.drop('Year',axis=1).head(10)\n",
        "#xóa theo trường\n",
        "dataframe.drop(['mssv','khoa',axis=1]).head(10)\n",
        "#xóa theo cột\n",
        "dataframe.dropdrop(dataframe.colums[2:4],axis=1).head(10)\n",
        "# xóa hàng có điểm 3, ckmckm\n",
        "datafram[dataframe['khoa']!'ckm'].head(10)\n",
        "dataframe[dataframe['điểm']!=3].head(10)\n",
        "#xóa hàng trùng giá trị \n",
        "dataframe.drop_duplicates().head(10)\n",
        "#nhóm các giá trị trùng nhau, đếm số lượnglượng\n",
        "dataframe.GroupBy('khoa').cout()\n",
        "dataframe.groupby(['khoa','diem']).count()\n",
        "dataframe.groupby(['khoa','diem']).countcount"
      ],
      "metadata": {
        "id": "wpl8qxstojYq"
      },
      "execution_count": null,
      "outputs": []
    },
    {
      "cell_type": "code",
      "source": [
        "import pandas as pd\n",
        "url = 'da.csv'\n",
        "dataframe = pd.read_csv(url)\n",
        "dataframe.head(11)\n",
        "dataframe.loc[0:10]\n",
        "dataframe['Year']=['2021']&dataframe['Variable_name\t']=='Total income'"
      ],
      "metadata": {
        "id": "RC-sY6xsmXJn"
      },
      "execution_count": null,
      "outputs": []
    },
    {
      "cell_type": "code",
      "source": [
        "#lấy mẫumẫu\n",
        "import pandas as pd\n",
        "import numpy as np\n",
        "time_index = pd.data_range('01/01/2023'),periods=100000,Frequency='30s'\n",
        "dataframe=pd.DataFrame(index = time_index)\n",
        "dataframe['Acess_Amount']=np.random.randint(1,10,100000)\n",
        "dataframe.resample('w').sum()\n",
        "# 2 tuần 1 lần\n",
        "dataframe.sesample('2w').mean()"
      ],
      "metadata": {
        "id": "r1iqN8eEsqn4"
      },
      "execution_count": null,
      "outputs": []
    },
    {
      "cell_type": "code",
      "source": [
        "from pandas.io.parsers.readers import read_csv\n",
        "import pandas as pd\n",
        "url = 'http://winterolympicsmedals.com/medals.csv'\n",
        "data = pd.read_csv(url)\n",
        "data[data['NOC']=='CAN'].value_counts()"
      ],
      "metadata": {
        "colab": {
          "base_uri": "https://localhost:8080/"
        },
        "id": "wKk8H4jvu8ay",
        "outputId": "df0cd30d-e9ea-4a9e-c1b2-98c803505310"
      },
      "execution_count": null,
      "outputs": [
        {
          "output_type": "execute_result",
          "data": {
            "text/plain": [
              "Year  City            Sport       Discipline      NOC  Event            Event gender  Medal \n",
              "1924  Chamonix        Ice Hockey  Ice Hockey      CAN  ice hockey       M             Gold      1\n",
              "1998  Nagano          Skating     Speed skating   CAN  500m             W             Gold      1\n",
              "2002  Salt Lake City  Skating     Short Track S.  CAN  500m             M             Gold      1\n",
              "                                                       5000m relay      M             Gold      1\n",
              "                                                       3000m relay      W             Bronze    1\n",
              "                                                                                               ..\n",
              "1984  Sarajevo        Skating     Speed skating   CAN  1000m            M             Gold      1\n",
              "                                  Figure skating  CAN  individual       M             Silver    1\n",
              "1980  Lake Placid     Skiing      Alpine Skiing   CAN  downhill         M             Bronze    1\n",
              "                      Skating     Speed skating   CAN  1000m            M             Silver    1\n",
              "2006  Turin           Skiing      Snowboard       CAN  Snowboard Cross  W             Bronze    1\n",
              "Length: 119, dtype: int64"
            ]
          },
          "metadata": {},
          "execution_count": 69
        }
      ]
    },
    {
      "cell_type": "code",
      "source": [
        "data[(data['Event']=='individual') & (data['Medal']=='Gold')].head(2300)\n",
        "data[(data['Event']=='individual') & (data['Medal']=='Gold')].value_counts()"
      ],
      "metadata": {
        "colab": {
          "base_uri": "https://localhost:8080/"
        },
        "id": "8eEezbrJ6IAi",
        "outputId": "2521e5a2-57c8-4f4c-efeb-bbb5a57975e2"
      },
      "execution_count": null,
      "outputs": [
        {
          "output_type": "execute_result",
          "data": {
            "text/plain": [
              "Year  City       Sport    Discipline       NOC  Event       Event gender  Medal\n",
              "1924  Chamonix   Skating  Figure skating   AUT  individual  W             Gold     1\n",
              "1972  Sapporo    Skating  Figure skating   TCH  individual  M             Gold     1\n",
              "1976  Innsbruck  Skating  Figure skating   GBR  individual  M             Gold     1\n",
              "                                           USA  individual  W             Gold     1\n",
              "                 Skiing   Nordic Combined  GDR  individual  M             Gold     1\n",
              "                                                                                  ..\n",
              "1964  Innsbruck  Skating  Figure skating   NED  individual  W             Gold     1\n",
              "                 Skiing   Nordic Combined  NOR  individual  M             Gold     1\n",
              "1968  Grenoble   Skating  Figure skating   AUT  individual  M             Gold     1\n",
              "                                           USA  individual  W             Gold     1\n",
              "2006  Turin      Skating  Figure skating   RUS  individual  M             Gold     1\n",
              "Length: 65, dtype: int64"
            ]
          },
          "metadata": {},
          "execution_count": 70
        }
      ]
    },
    {
      "cell_type": "code",
      "source": [],
      "metadata": {
        "id": "eJUvKa8I7u4k"
      },
      "execution_count": null,
      "outputs": []
    }
  ]
}